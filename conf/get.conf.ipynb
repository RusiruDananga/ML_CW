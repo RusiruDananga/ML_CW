{
 "cells": [
  {
   "cell_type": "code",
   "execution_count": 7,
   "metadata": {},
   "outputs": [
    {
     "name": "stdout",
     "output_type": "stream",
     "text": [
      "Model Configuration: {'model_qty_pred_model_final': {'identifier': 'qty_pred_model_final', 'name': 'xgboost', 'parameters': {'learning_rate': 0.05, 'max_depth': 5, 'n_estimators': 150, 'subsample': 0.8, 'colsample_bytree': 0.8, 'alpha': 10, 'lambda': 1}}, 'model_qty_pred_wdepartment_model_final': {'identifier': 'qty_pred_wdepartment_model_final', 'name': 'xgboost', 'parameters': {'learning_rate': 0.05, 'max_depth': 5, 'n_estimators': 150, 'subsample': 0.8, 'colsample_bytree': 0.8, 'alpha': 10, 'lambda': 1}}, 'model_sales_pred_model_final': {'identifier': 'sales_pred_model_final', 'name': 'xgboost', 'parameters': {'learning_rate': 0.05, 'max_depth': 5, 'n_estimators': 150, 'subsample': 0.8, 'colsample_bytree': 0.8, 'alpha': 10, 'lambda': 1}}, 'model_sales_pred_wdepartment_model_final': {'identifier': 'sales_pred_wdepartment_model_final', 'name': 'xgboost', 'parameters': {'learning_rate': 0.05, 'max_depth': 5, 'n_estimators': 150, 'subsample': 0.8, 'colsample_bytree': 0.8, 'alpha': 10, 'lambda': 1}}}\n",
      "Database Configuration: None\n"
     ]
    }
   ],
   "source": [
    "# Import required libraries\n",
    "import yaml\n",
    "import os\n",
    "\n",
    "# Define the path to the configuration file\n",
    "config_file_path = os.path.join(os.getcwd(), 'conf', '../config.yaml')\n",
    "\n",
    "# Load the configuration settings from the YAML file\n",
    "def load_config(config_file_path):\n",
    "    with open(config_file_path, 'r') as file:\n",
    "        config = yaml.safe_load(file)\n",
    "    return config\n",
    "\n",
    "# Function to get configuration settings\n",
    "def get_conf(key=None):\n",
    "    config = load_config(config_file_path)\n",
    "    \n",
    "    if key:\n",
    "        # Return specific configuration by key\n",
    "        return config.get(key)\n",
    "    else:\n",
    "        # Return the entire configuration\n",
    "        return config\n",
    "\n",
    "# Example usage\n",
    "if __name__ == \"__main__\":\n",
    "    # Get all configurations\n",
    "    full_config = get_conf()\n",
    "    print(\"Model Configuration:\", full_config)\n",
    "    \n",
    "    # Get specific configuration\n",
    "    db_config = get_conf('database')\n",
    "    print(\"Database Configuration:\", db_config)\n"
   ]
  }
 ],
 "metadata": {
  "kernelspec": {
   "display_name": "Python 3",
   "language": "python",
   "name": "python3"
  },
  "language_info": {
   "codemirror_mode": {
    "name": "ipython",
    "version": 3
   },
   "file_extension": ".py",
   "mimetype": "text/x-python",
   "name": "python",
   "nbconvert_exporter": "python",
   "pygments_lexer": "ipython3",
   "version": "3.12.4"
  }
 },
 "nbformat": 4,
 "nbformat_minor": 2
}
