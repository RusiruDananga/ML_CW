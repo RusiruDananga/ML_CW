{
 "cells": [
  {
   "cell_type": "code",
   "execution_count": 18,
   "metadata": {},
   "outputs": [],
   "source": [
    "import nbformat\n",
    "from nbconvert.preprocessors import ExecutePreprocessor\n",
    "\n",
    "def run_notebook(notebook_path):\n",
    "    with open(notebook_path) as f:\n",
    "        nb = nbformat.read(f, as_version=4)\n",
    "    ep = ExecutePreprocessor(timeout=600, kernel_name='python3')\n",
    "    ep.preprocess(nb, {'metadata': {'path': './'}})\n",
    "\n",
    "# Run EDA notebook\n",
    "run_notebook('../analysis/eda.ipynb')\n",
    "\n",
    "# Run model notebooks\n",
    "run_notebook('../src/models/qty_pred_model_final.ipynb')\n",
    "run_notebook('../src/models/sales_pred_model_final.ipynb')\n",
    "run_notebook('../src/models/qty_pred_wdepartment_model_final.ipynb')\n",
    "run_notebook('../src/models/sales_pred_wdepartment_model_final.ipynb')\n"
   ]
  }
 ],
 "metadata": {
  "kernelspec": {
   "display_name": "Python 3",
   "language": "python",
   "name": "python3"
  },
  "language_info": {
   "codemirror_mode": {
    "name": "ipython",
    "version": 3
   },
   "file_extension": ".py",
   "mimetype": "text/x-python",
   "name": "python",
   "nbconvert_exporter": "python",
   "pygments_lexer": "ipython3",
   "version": "3.12.4"
  }
 },
 "nbformat": 4,
 "nbformat_minor": 2
}
