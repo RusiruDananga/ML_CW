{
 "cells": [
  {
   "cell_type": "code",
   "execution_count": 2,
   "metadata": {},
   "outputs": [],
   "source": [
    "import pandas as pd\n",
    "from tabulate import tabulate"
   ]
  },
  {
   "cell_type": "code",
   "execution_count": 3,
   "metadata": {},
   "outputs": [],
   "source": [
    "def print_null_summary(df, name):\n",
    "    total_records = len(df)\n",
    "    null_counts = df.isnull().sum()\n",
    "    null_summary = pd.DataFrame({\n",
    "        'Column': null_counts.index,\n",
    "        'Null Values': null_counts.values,\n",
    "        'Out of': total_records\n",
    "    })\n",
    "    null_summary = null_summary[null_summary['Null Values'] > 0]\n",
    "    print(f\"Null values in {name}:\")\n",
    "    print(tabulate(null_summary, headers='keys', tablefmt='psql', showindex=False))\n",
    "    print()"
   ]
  },
  {
   "cell_type": "code",
   "execution_count": 4,
   "metadata": {},
   "outputs": [],
   "source": [
    "def detect_outliers(df, name):\n",
    "    outliers_summary = {}\n",
    "    for column in df.select_dtypes(include=['number']).columns:\n",
    "        Q1 = df[column].quantile(0.25)\n",
    "        Q3 = df[column].quantile(0.75)\n",
    "        IQR = Q3 - Q1\n",
    "        lower_bound = Q1 - 1.5 * IQR\n",
    "        upper_bound = Q3 + 1.5 * IQR\n",
    "        \n",
    "        # Detect outliers\n",
    "        outliers = df[(df[column] < lower_bound) | (df[column] > upper_bound)]\n",
    "        outliers_summary[column] = len(outliers)\n",
    "    \n",
    "    # Prepare and display the summary table\n",
    "    outliers_df = pd.DataFrame({\n",
    "        'Column': outliers_summary.keys(),\n",
    "        'Outliers': outliers_summary.values(),\n",
    "        'Out of': len(df)\n",
    "    })\n",
    "    \n",
    "    print(f\"Outliers in {name}:\")\n",
    "    print(tabulate(outliers_df, headers='keys', tablefmt='psql', showindex=False))\n",
    "    print()"
   ]
  }
 ],
 "metadata": {
  "kernelspec": {
   "display_name": "Python 3",
   "language": "python",
   "name": "python3"
  },
  "language_info": {
   "codemirror_mode": {
    "name": "ipython",
    "version": 3
   },
   "file_extension": ".py",
   "mimetype": "text/x-python",
   "name": "python",
   "nbconvert_exporter": "python",
   "pygments_lexer": "ipython3",
   "version": "3.12.4"
  }
 },
 "nbformat": 4,
 "nbformat_minor": 2
}
