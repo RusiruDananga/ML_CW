{
 "cells": [
  {
   "cell_type": "code",
   "execution_count": 1,
   "metadata": {},
   "outputs": [],
   "source": [
    "import pandas as pd\n",
    "from tabulate import tabulate"
   ]
  },
  {
   "cell_type": "code",
   "execution_count": 3,
   "metadata": {},
   "outputs": [],
   "source": [
    "# Get 5 lag values and place those in different columns\n",
    "def create_lag_values(df):\n",
    "    for i in range(1, 6):\n",
    "        df[f'item_qty_lag_{i}'] = df['item_qty'].shift(i)\n",
    "        df[f'net_sales_lag_{i}'] = df['net_sales'].shift(i)\n",
    "\n",
    "        # Replace the NaN values with respective column mean\n",
    "        df[f'item_qty_lag_{i}'] = df[f'item_qty_lag_{i}'].fillna(df[f'item_qty_lag_{i}'].mean())\n",
    "        df[f'net_sales_lag_{i}'] = df[f'net_sales_lag_{i}'].fillna(df[f'net_sales_lag_{i}'].mean())\n",
    "\n",
    "    return df"
   ]
  }
 ],
 "metadata": {
  "kernelspec": {
   "display_name": "Python 3",
   "language": "python",
   "name": "python3"
  },
  "language_info": {
   "codemirror_mode": {
    "name": "ipython",
    "version": 3
   },
   "file_extension": ".py",
   "mimetype": "text/x-python",
   "name": "python",
   "nbconvert_exporter": "python",
   "pygments_lexer": "ipython3",
   "version": "3.12.4"
  }
 },
 "nbformat": 4,
 "nbformat_minor": 2
}
