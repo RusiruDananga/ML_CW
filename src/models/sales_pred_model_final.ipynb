{
 "cells": [
  {
   "cell_type": "code",
   "execution_count": 51,
   "metadata": {},
   "outputs": [],
   "source": [
    "import pandas as pd\n",
    "from tabulate import tabulate\n",
    "import xgboost as xgb\n",
    "from sklearn.model_selection import train_test_split\n",
    "from sklearn.metrics import mean_squared_error, r2_score\n",
    "from sklearn.preprocessing import LabelEncoder\n",
    "import numpy as np\n",
    "import matplotlib.pyplot as plt\n",
    "import seaborn as sns\n",
    "from sklearn.linear_model import LinearRegression\n",
    "from sklearn.ensemble import RandomForestRegressor\n",
    "import joblib\n",
    "from datetime import datetime"
   ]
  },
  {
   "cell_type": "code",
   "execution_count": 52,
   "metadata": {},
   "outputs": [],
   "source": [
    "class XGBoostModel:\n",
    "    def __init__(self, n_estimators=100, learning_rate=0.1, max_depth=5, subsample=1.0, colsample_bytree=1.0, alpha=0, lambda_=1):\n",
    "        self.n_estimators = n_estimators\n",
    "        self.learning_rate = learning_rate\n",
    "        self.max_depth = max_depth\n",
    "        self.subsample = subsample\n",
    "        self.colsample_bytree = colsample_bytree\n",
    "        self.alpha = alpha\n",
    "        self.lambda_ = lambda_\n",
    "        self.model_sales = None\n",
    "        self.label_encoder_store = LabelEncoder()\n",
    "        self.label_encoder_dept = LabelEncoder()\n",
    "\n",
    "    def train(self, training_data):\n",
    "        # Encode categorical variables\n",
    "        training_data['store'] = self.label_encoder_store.fit_transform(training_data['store'])\n",
    "        training_data['item_dept'] = self.label_encoder_dept.fit_transform(training_data['item_dept'])\n",
    "\n",
    "        # Define features and target variables for item_qty prediction\n",
    "        X_train = training_data[['date_id', 'item_dept', 'store', 'item_qty_lag_1', 'net_sales_lag_1', \n",
    "                                'item_qty_lag_2', 'net_sales_lag_2']]\n",
    "        y_train_sales = training_data['net_sales']\n",
    "\n",
    "        # Convert date_id to numerical value for XGBoost\n",
    "        X_train['date_id'] = pd.to_datetime(X_train['date_id']).map(pd.Timestamp.toordinal)\n",
    "\n",
    "        # Train the XGBoost model for net_sales\n",
    "        self.model_sales = xgb.XGBRegressor(\n",
    "            objective='reg:squarederror',\n",
    "            n_estimators=self.n_estimators,\n",
    "            learning_rate=self.learning_rate,\n",
    "            max_depth=self.max_depth,\n",
    "            subsample=self.subsample,\n",
    "            colsample_bytree=self.colsample_bytree,\n",
    "            alpha=self.alpha,\n",
    "            reg_lambda=self.lambda_\n",
    "        )\n",
    "        self.model_sales.fit(X_train, y_train_sales)\n",
    "\n",
    "        # Predict on the training dataset\n",
    "        y_train_pred_sales = self.model_sales.predict(X_train)\n",
    "\n",
    "        # Calculate metrics for net_sales\n",
    "        mse_sales = mean_squared_error(y_train_sales, y_train_pred_sales)\n",
    "        rmse_sales = np.sqrt(mse_sales)\n",
    "        r2_sales = r2_score(y_train_sales, y_train_pred_sales)\n",
    "\n",
    "        # Print the results\n",
    "        print(f\"Net Sales - MSE: {mse_sales}, RMSE: {rmse_sales}, R-squared: {r2_sales}\")\n",
    "\n",
    "    def evaluate(self, test_data):\n",
    "        # Encode categorical variables\n",
    "        test_data['store'] = self.label_encoder_store.fit_transform(test_data['store'])\n",
    "        test_data['item_dept'] = self.label_encoder_dept.fit_transform(test_data['item_dept'])\n",
    "\n",
    "        # Define features and target variables for net_sales prediction\n",
    "        X_test = test_data[['date_id', 'item_dept', 'store', 'item_qty_lag_1', 'net_sales_lag_1', \n",
    "                                'item_qty_lag_2', 'net_sales_lag_2']]\n",
    "        y_test_sales = test_data['net_sales']\n",
    "\n",
    "\n",
    "        # Convert date_id to numerical value for XGBoost\n",
    "        X_test['date_id'] = pd.to_datetime(X_test['date_id']).map(pd.Timestamp.toordinal)\n",
    "\n",
    "        # Predict and evaluate for net_sales\n",
    "        y_test_sales = test_data['net_sales']\n",
    "        y_pred_sales = self.model_sales.predict(X_test)\n",
    "        mse_sales = mean_squared_error(y_test_sales, y_pred_sales)\n",
    "        rmse_sales = np.sqrt(mse_sales)\n",
    "        r2_sales = r2_score(y_test_sales, y_pred_sales)\n",
    "\n",
    "        print(f\"Item Quantity Prediction - MSE: {mse_sales}, RMSE: {rmse_sales}, R²: {r2_sales}\")\n",
    "\n",
    "    def save_model(self, model_path='xgb_model_sales.pkl'):\n",
    "        # Save the model\n",
    "        joblib.dump((self.model_sales, self.label_encoder_store, self.label_encoder_dept), model_path)\n",
    "        print(f\"Model saved to {model_path}\")"
   ]
  },
  {
   "cell_type": "code",
   "execution_count": 53,
   "metadata": {},
   "outputs": [
    {
     "name": "stdout",
     "output_type": "stream",
     "text": [
      "Net Sales - MSE: 745920691.2935708, RMSE: 27311.54867988212, R-squared: 0.9741291301088193\n",
      "Item Quantity Prediction - MSE: 15824310815.791012, RMSE: 125794.71696295918, R²: 0.6344770468526446\n",
      "Model saved to ../../src/models/xgb_model_sales.pkl\n"
     ]
    },
    {
     "name": "stderr",
     "output_type": "stream",
     "text": [
      "C:\\Users\\User\\AppData\\Local\\Temp\\ipykernel_26512\\3161005485.py:25: SettingWithCopyWarning: \n",
      "A value is trying to be set on a copy of a slice from a DataFrame.\n",
      "Try using .loc[row_indexer,col_indexer] = value instead\n",
      "\n",
      "See the caveats in the documentation: https://pandas.pydata.org/pandas-docs/stable/user_guide/indexing.html#returning-a-view-versus-a-copy\n",
      "  X_train['date_id'] = pd.to_datetime(X_train['date_id']).map(pd.Timestamp.toordinal)\n",
      "C:\\Users\\User\\AppData\\Local\\Temp\\ipykernel_26512\\3161005485.py:63: SettingWithCopyWarning: \n",
      "A value is trying to be set on a copy of a slice from a DataFrame.\n",
      "Try using .loc[row_indexer,col_indexer] = value instead\n",
      "\n",
      "See the caveats in the documentation: https://pandas.pydata.org/pandas-docs/stable/user_guide/indexing.html#returning-a-view-versus-a-copy\n",
      "  X_test['date_id'] = pd.to_datetime(X_test['date_id']).map(pd.Timestamp.toordinal)\n"
     ]
    }
   ],
   "source": [
    "training_data = pd.read_csv(\"../data/training_model_data.csv\")\n",
    "testing_data = pd.read_csv(\"../data/testing_model_data.csv\")\n",
    "xgb_model = XGBoostModel(n_estimators=150, learning_rate=0.05, max_depth=5, subsample=0.8, colsample_bytree=0.8, alpha=10, lambda_=1)\n",
    "trained_xgb_model = xgb_model.train(training_data)\n",
    "tested_xgb_model = xgb_model.evaluate(testing_data)\n",
    "\n",
    "# Save the model\n",
    "xgb_model.save_model('../src/models/xgb_model_sales.pkl')"
   ]
  },
  {
   "cell_type": "code",
   "execution_count": 54,
   "metadata": {},
   "outputs": [
    {
     "name": "stdout",
     "output_type": "stream",
     "text": [
      "Model loaded from ../../src/models/xgb_model_sales.pkl\n",
      "Predicted net_sales: 294050.96875\n"
     ]
    }
   ],
   "source": [
    "# # Load the model\n",
    "# xgb_model.load_model('../src/models/xgb_model_sales.pkl')\n",
    "# # Predict the item_qty\n",
    "# xgb_model.predict('2022-02-02', 'Beverages', 'ABC')"
   ]
  }
 ],
 "metadata": {
  "kernelspec": {
   "display_name": "Python 3",
   "language": "python",
   "name": "python3"
  },
  "language_info": {
   "codemirror_mode": {
    "name": "ipython",
    "version": 3
   },
   "file_extension": ".py",
   "mimetype": "text/x-python",
   "name": "python",
   "nbconvert_exporter": "python",
   "pygments_lexer": "ipython3",
   "version": "3.12.4"
  }
 },
 "nbformat": 4,
 "nbformat_minor": 2
}
